{
 "cells": [
  {
   "cell_type": "code",
   "execution_count": 3,
   "metadata": {
    "collapsed": true
   },
   "outputs": [],
   "source": [
    "from adversaries.adversary import AdversaryStrategy\n",
    "from typing import List, Dict\n",
    "from data_reader.input import Instance, FeatureVector\n",
    "import numpy as np\n",
    "from learners.learner import InitialPredictor\n",
    "from math import log"
   ]
  },
  {
   "cell_type": "code",
   "execution_count": 5,
   "metadata": {
    "collapsed": false
   },
   "outputs": [],
   "source": [
    "class Adversary(AdversaryStrategy):\n",
    "\n",
    "    def __init__(self):\n",
    "        self.xj_min = 0               # type: float (depends on feature domain size)\n",
    "        self.xj_max = 1               # type: float (depends on feature domain size)\n",
    "        self.f_attack = 1             # type: float (value between 0 and 1)\n",
    "        self.innocuous_target         # need to figure out how to get a non malicious instance\n",
    "        self.learn_model = None       # type: Classifier\n",
    "        self.num_features = None      # type: int\n",
    "        self.f_domain = 1             # 1 for binary features, 0 for non-binary features\n",
    "        \n",
    "\n",
    "    def change_instances(self, instances: List[Instance]) -> List[Instance]:\n",
    "        transformed_instances = []\n",
    "        if self.f_attack == 0:\n",
    "            return instances\n",
    "        for instance in instances:\n",
    "            transformed_instance = deepcopy(instance)\n",
    "            if instance.get_label() == 1:\n",
    "                transformed_instances.append(self.attack(transformed_instance))\n",
    "            else:\n",
    "                transformed_instances.append(transformed_instance)\n",
    "        return transformed_instances\n",
    "\n",
    "    def set_params(self, params: Dict):\n",
    "        if 'xj_min' in params.keys():\n",
    "            self.xj_min = params['xj_min']\n",
    "        if 'xj_max' in params.keys():\n",
    "            self.xj_max = params['xj_max']\n",
    "        if 'f_attack' in params.keys():\n",
    "            self.f_attack = params['f_attack']\n",
    "        if 'f_domain' in params.keys():\n",
    "            self.f_domain = params['f_domain']\n",
    "            \n",
    "\n",
    "\n",
    "    def get_available_params(self) -> Dict:\n",
    "        params = {'xj_min': self.lambda_val,\n",
    "                  'xj_max': self.max_change,\n",
    "                  'f_attack': self.f_attack,\n",
    "                  'f_domain': self.f_domain}\n",
    "        return params\n",
    "\n",
    "    def set_adversarial_params(self, learner, train_instances: List[Instance]):\n",
    "        self.learn_model = learner\n",
    "        self.num_features = train_instances[0].get_feature_vector().get_feature_count()\n",
    "        self.innocuous_target = next(\n",
    "            (x for x in instances if x.get_label() == InitialPredictor.negative_classification),\n",
    "            None\n",
    "        )\n",
    "    # Maybe for the binary case, the f_attack value represents the percentage of features we change?\n",
    "    def attack(self, instance: Instance):\n",
    "        for i in range(0, self.num_features):\n",
    "            delta_ij = self.innocuous_target - instance.get_feature_vector.get_feature(i)\n",
    "            if delta_ij!=0:\n",
    "                if self.f_domain == 1: # when features are binary\n",
    "                    instance.get_feature_vector().flip_bit(i)\n",
    "                else: # when we have non-binary features\n",
    "                    instance.set_feature_weight(i,self.f_attack*delta_ij)\n",
    "        return instance\n"
   ]
  },
  {
   "cell_type": "code",
   "execution_count": null,
   "metadata": {
    "collapsed": true
   },
   "outputs": [],
   "source": []
  }
 ],
 "metadata": {
  "kernelspec": {
   "display_name": "Python 3",
   "language": "python",
   "name": "python3"
  },
  "language_info": {
   "codemirror_mode": {
    "name": "ipython",
    "version": 3
   },
   "file_extension": ".py",
   "mimetype": "text/x-python",
   "name": "python",
   "nbconvert_exporter": "python",
   "pygments_lexer": "ipython3",
   "version": "3.5.2"
  }
 },
 "nbformat": 4,
 "nbformat_minor": 2
}
