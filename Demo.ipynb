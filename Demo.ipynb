{
 "cells": [
  {
   "cell_type": "code",
   "execution_count": null,
   "metadata": {
    "collapsed": false
   },
   "outputs": [],
   "source": [
    "import sys\n",
    "from sklearn import svm\n",
    "import adversaries as ad\n",
    "from data_reader import input, output, operations\n",
    "from classifier import Classifier\n",
    "from metrics import EvasionMetrics\n",
    "from copy import deepcopy\n",
    "\n",
    "#-----------------------------Library Demo---------------------------------\n",
    "# Demonstrate framework testing by simulating an SVM classifier and its  \n",
    "# resulting classification accuracy after an attack from the simple_optimize adversary.\n",
    "\n",
    "# Initial learner training:\n",
    "\n",
    "# choose a learning model \n",
    "learning_model = svm.SVC(probability=True, kernel='linear')\n",
    "\n",
    "# load the instances to feed to the learner and adversary \n",
    "instances = input.load_instances('./data_reader/data/test/100_instance_debug')\n",
    "\n",
    "# create a naive classifier using classifier and specify the training data \n",
    "clf = Classifier(learning_model, instances)\n",
    "\n",
    "#train the classifier on the data\n",
    "clf.train()\n",
    "\n",
    "# choose an adversary attack strategy, here we choose simple_optimize\n",
    "adv = ad.SimpleOptimize(lambda_val=-100, max_change = 65, learner = clf)\n",
    "\n",
    "# perform the attack/strategy on the data \n",
    "instances_post_attack = adv.attack(instances)\n",
    "\n",
    "# obtain metrics of classification performance both pre- and post- attack\n",
    "metrics = EvasionMetrics(clf, instances, instances_post_attack)\n",
    "preAccuracy = metrics.getAccuracy(True)\n",
    "postAccuracy = metrics.getAccuracy(False)\n",
    "print (\"Pre-attack Accuracy (naive classifier): \" + str(preAccuracy))\n",
    "print (\"Post-attack Accuracy: (naive classifier): \" + str(postAccuracy))\n",
    "\n",
    "# plot ROC curve of naive classifier performance after attack\n",
    "metrics.plotROC(False)\n",
    "\n",
    "# Learner responds by exercising a robust strategy when training:\n",
    "instances2 = input.load_instances('./data_reader/data/test/100_instance_debug')\n",
    "learning_model2 = svm.SVC(probability=True, kernel='linear')\n",
    "clf2 = Classifier(learning_model2, instances2, [\"retraining\", adv.clone()]) \n",
    "\n",
    "clf2.train()\n",
    "\n",
    "# Now we launch the attack on the robust classifier \n",
    "adv = ad.SimpleOptimize(lambda_val=-100, max_change = 65, learner = clf2)\n",
    "instances_post_attack2 = adv.attack(instances2)\n",
    "\n",
    "# obtain metrics of classification performance both pre- and post- attack\n",
    "metrics2 = EvasionMetrics(clf2, instances, instances_post_attack2)\n",
    "preAccuracy2 = metrics2.getAccuracy(True)\n",
    "postAccuracy2 = metrics2.getAccuracy(False)\n",
    "print (\"Pre-attack Accuracy (robust classifier): \" + str(preAccuracy2))\n",
    "print (\"Post-attack Accuracy: (robust classifier): \" + str(postAccuracy2))\n",
    "\n",
    "metrics2.plotROC(True)"
   ]
  }
 ],
 "metadata": {
  "kernelspec": {
   "display_name": "Python 3",
   "language": "python",
   "name": "python3"
  },
  "language_info": {
   "codemirror_mode": {
    "name": "ipython",
    "version": 3
   },
   "file_extension": ".py",
   "mimetype": "text/x-python",
   "name": "python",
   "nbconvert_exporter": "python",
   "pygments_lexer": "ipython3",
   "version": "3.6.0"
  }
 },
 "nbformat": 4,
 "nbformat_minor": 0
}
